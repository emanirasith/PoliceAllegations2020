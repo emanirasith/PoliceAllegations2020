{
 "cells": [
  {
   "cell_type": "markdown",
   "metadata": {},
   "source": [
    "# NYPD Civilian Complaints\n",
    "This project contains data on 12,000 civilian complaints filed against New York City police officers in 2020. "
   ]
  },
  {
   "cell_type": "markdown",
   "metadata": {},
   "source": [
    "\n",
    "# Summary of Findings\n",
    "\n",
    "\n",
    "\n",
    "## Introduction\n",
    "#### Question: \n",
    "Are the complaints of women more succesful than men (for the same allegations?)\n",
    "\n",
    "#### Dataset:\n",
    "command_at_incident: 1544 null values <br>\n",
    "complainant_ethnicity: 4464 null values 1041 'Unknown' <br>\n",
    "complainant_gender: 4195 null values and some 'Not described' <br>\n",
    "complainant_age_incident: 4812 null values <br>\n",
    "allegation: 1 null value <br>\n",
    "precinct: 24 null values <br>\n",
    "contact_reason: 199 null values and some 'No contact' <br>\n",
    "\n",
    "33358 rows x 29 columns  <br>\n",
    "\n",
    "Each row in the dataset is an allegation filed against the police. Each column gives some kind of information about the allegation and if it was successful or not.\n",
    "\n",
    "\n",
    "## Cleaning and EDA\n",
    "#### cleaning:\n",
    "First I replaced all values that are \"missing\" to np.NaN. Such as \"Unknown\" in complainant_ethnicity, \"Not described\" in complainant_gender, and \"No contact\" in contact_reason. I did this because these values are equal to np.NaN values and contribute to missingness.\n",
    "\n",
    "Second I removed anyone that was below the age of 0.\n",
    "There should not exist anyone below the age of 0 in this dataset. \n",
    "\n",
    "Third I chose columns that I deemed relevant to our question.\n",
    "\n",
    "Fourth I located allegations that only came specifically from a \"male\" or \"female\".\n",
    "I decided not to include non-binary genders because they are not part of the population that our question is focused on.\n",
    "\n",
    "Fifth I created a success column that quantified if an allegation was a success or not based on the board_disposition.\n",
    "I did this to quantify what success meant for each allegation. \n",
    "\n",
    "*note: in the pre cleaning before I started analyzing, I removed non-binary genders because I am only focused on males and females and that it doesn't affect our analysis because they constituted a very small minority of the total population\n",
    "\n",
    "#### analysis:\n",
    "From just looking at the complainant_gender column, I can see that an overwhelming majority of complaints are filed by men.\n",
    "\n",
    "From the success column, I can see that only around 25% of cases are won against the police. Any substantiated value in 'board_disposition' constitutes a win for the complainant.\n",
    "\n",
    "Men seem to have a higher win rate for cases than women.\n",
    "\n",
    "\n",
    "## Assessment of Missingness\n",
    "I believe that the data is NMAR because the site that I got the data from says that every complaint in the database was heavily investigated and thus the authorities should have identifying information on both the complaining party and the officer(s). The complainants have to provide a sworn statement, so it's hard to assume that the authorities don't know the ethnicity of a complainant when knowing their name gives them access to other avenues to identify them through and thus figure out personal information such as gender and ethnicity. A plausible reason as to why it's missing could be that either the officers or the complainant's would rather not disclose that information\n",
    "\n",
    "I chose to provide a possible explanation for the missingness through the column success. If a case was unsuccessful for the complainant, then the police may choose to withhold putting his or her race down because if he or she is a minority, it could look bad for them if so many cases made by minorities are won in favor of the police.\n",
    "\n",
    "I chose complainant_gender to be the column where I expected complainant_ethnicity to not be dependent on it because I don't believe gender to be a reason as to why a complainant's ethnicity cannot be identified.\n",
    "\n",
    "#### sig fig: \n",
    "0.05 to insure accuracy \n",
    "\n",
    "#### test statistic:\n",
    "I used tvd (total variation distance) to compare distributions of missingness. I chose tvd because I are dealing with categorical data (complainant_ethnicity).\n",
    "\n",
    "#### setup:\n",
    "I did not have a setup for the first and last test, but the second test I isolated race allegations from the dataset. \n",
    "\n",
    "\n",
    "#### results:\n",
    "pval: 0.009<br>\n",
    "I reject our null hypothesis therefore complaiant_ethnicity's missingness is dependent on success\n",
    "\n",
    "pval: 0.018<br>\n",
    "I reject our null hypothesis, so complainant_ethnicity's missingness is also dependent on success when allegations are about race\n",
    "\n",
    "pval: 0.311<br>\n",
    "I do not reject the null hypothesis, so complainant_ethnicity's missingness is not dependent on complainant_gender.\n",
    "\n",
    "\n",
    "\n",
    "## Hypothesis Test\n",
    "#### null hypothesis: \n",
    "In our population, for the same allegations, the successes of men and women have the same distribution.\n",
    "\n",
    "#### alt hypothesis: \n",
    "In our population, for the same allegations, women are more likely to be successful in their cases than men. \n",
    "\n",
    "#### sig fig: \n",
    "0.01 to insure accuracy \n",
    "\n",
    "#### test statistic: \n",
    "I used diff of means between the proportions of females that win and the proportions of males that win for each individual allegation. Despite gender being categorical I wanted to compare the proportion of the male population vs the female population.  \n",
    "\n",
    "#### setup: \n",
    "To choose the allegations that I would like to compare the successes between males and females, I eliminated the allegations where charges were made exclusively by either males or females. Then, I selected the top 10 allegations with the most sample size and among them, I chose the ones that had as close to the same proportion of female representation as in the entire population of males and females.  Since alternate hypothesis concerns women, I wanted the proportion of women in each allegation to be as representative of all of the women in the population as possible. I selected \"Physical force,\" \"Word,\" 'Vehicle stop,\" and \"Threat of force (verbal of physical).\"\n",
    "\n",
    "\n",
    "#### results: \n",
    "pval:<br>\n",
    "Physical force:                          0.000<br>\n",
    "Therefore for 'Physical force' I reject our null hypothesis meaning that for when allegation type is of 'Physical force' women are more likely to be successful in their case than men\n",
    "\n",
    "Word:                                    0.038<br>\n",
    "Therefore for word I do not reject our null hypothesis meaning that when allegation type is 'word' women and men are equally likely to be successful in their case.\n",
    "\n",
    "Vehicle stop:                            0.082<br>\n",
    "Therefore for 'Vehicle stop' I do not reject our null hypothesis meaning that when allegation type is 'Vehicle stop' women and men are equally likely to be successful in their case.\n",
    "\n",
    "Threat of force (verbal or physical):    0.792<br>\n",
    "Therefore for 'Threat of force (verbal or physical)' I do not reject our null hypothesis meaning that when allegation type is 'Threat of force (verbal or physical)' women and men are equally likely to be successful in their case.\n",
    "\n",
    "\n",
    "#### conclusion:\n",
    "I conclude that when allegations are about 'physical force' women are more likely to have a successful case than men, but for the other three allegations I found that women and men are equally likely to have a successful case. This could be because women are seen to be \"weaker\" than men, so then when they allege 'physical force' they are more likely to be believed than men. Otherwise most allegations seem to be very generally categorized into direct physical contact between the officer and complainant, and non-direct physical (coming into contact with a complainant's belongings, etc.) or verbal actions. \"Word\", \"vehicle stop,\" and \"threat of force (verbal of physical)\" do not involve the police coming into direct physical contact with the complainant (physical threat of force is probably like posturing or brandishing a baton but not actually assaulting the complainant) and thus it seems that women and men are both equally likely to win a case for those allegations. With those allegations, neither men or women seem more \"susceptible.\""
   ]
  },
  {
   "cell_type": "code",
   "execution_count": 3,
   "metadata": {},
   "outputs": [],
   "source": [
    "import matplotlib.pyplot as plt\n",
    "import numpy as np\n",
    "import pandas as pd\n",
    "from src._clean import cleaning\n",
    "%matplotlib inline\n",
    "%config InlineBackend.figure_format = 'retina'  # Higher resolution figures"
   ]
  },
  {
   "cell_type": "code",
   "execution_count": 4,
   "metadata": {},
   "outputs": [
    {
     "data": {
      "text/html": [
       "<div>\n",
       "<style scoped>\n",
       "    .dataframe tbody tr th:only-of-type {\n",
       "        vertical-align: middle;\n",
       "    }\n",
       "\n",
       "    .dataframe tbody tr th {\n",
       "        vertical-align: top;\n",
       "    }\n",
       "\n",
       "    .dataframe thead th {\n",
       "        text-align: right;\n",
       "    }\n",
       "</style>\n",
       "<table border=\"1\" class=\"dataframe\">\n",
       "  <thead>\n",
       "    <tr style=\"text-align: right;\">\n",
       "      <th></th>\n",
       "      <th>complainant_ethnicity</th>\n",
       "      <th>complainant_gender</th>\n",
       "      <th>complainant_age_incident</th>\n",
       "      <th>allegation</th>\n",
       "      <th>contact_reason</th>\n",
       "      <th>outcome_description</th>\n",
       "      <th>board_disposition</th>\n",
       "      <th>success</th>\n",
       "    </tr>\n",
       "  </thead>\n",
       "  <tbody>\n",
       "    <tr>\n",
       "      <th>0</th>\n",
       "      <td>Black</td>\n",
       "      <td>Female</td>\n",
       "      <td>38.0</td>\n",
       "      <td>Failure to provide RTKA card</td>\n",
       "      <td>Report-domestic dispute</td>\n",
       "      <td>No arrest made or summons issued</td>\n",
       "      <td>Substantiated (Command Lvl Instructions)</td>\n",
       "      <td>1</td>\n",
       "    </tr>\n",
       "    <tr>\n",
       "      <th>1</th>\n",
       "      <td>Black</td>\n",
       "      <td>Male</td>\n",
       "      <td>26.0</td>\n",
       "      <td>Action</td>\n",
       "      <td>Moving violation</td>\n",
       "      <td>Moving violation summons issued</td>\n",
       "      <td>Substantiated (Charges)</td>\n",
       "      <td>1</td>\n",
       "    </tr>\n",
       "    <tr>\n",
       "      <th>2</th>\n",
       "      <td>Black</td>\n",
       "      <td>Male</td>\n",
       "      <td>26.0</td>\n",
       "      <td>Race</td>\n",
       "      <td>Moving violation</td>\n",
       "      <td>Moving violation summons issued</td>\n",
       "      <td>Substantiated (Charges)</td>\n",
       "      <td>1</td>\n",
       "    </tr>\n",
       "    <tr>\n",
       "      <th>3</th>\n",
       "      <td>Black</td>\n",
       "      <td>Male</td>\n",
       "      <td>45.0</td>\n",
       "      <td>Question</td>\n",
       "      <td>PD suspected C/V of violation/crime - street</td>\n",
       "      <td>No arrest made or summons issued</td>\n",
       "      <td>Substantiated (Charges)</td>\n",
       "      <td>1</td>\n",
       "    </tr>\n",
       "    <tr>\n",
       "      <th>4</th>\n",
       "      <td>White</td>\n",
       "      <td>Male</td>\n",
       "      <td>31.0</td>\n",
       "      <td>Refusal to process civilian complaint</td>\n",
       "      <td>C/V telephoned PCT</td>\n",
       "      <td>No arrest made or summons issued</td>\n",
       "      <td>Substantiated (Command Lvl Instructions)</td>\n",
       "      <td>1</td>\n",
       "    </tr>\n",
       "  </tbody>\n",
       "</table>\n",
       "</div>"
      ],
      "text/plain": [
       "  complainant_ethnicity complainant_gender  complainant_age_incident  \\\n",
       "0                 Black             Female                      38.0   \n",
       "1                 Black               Male                      26.0   \n",
       "2                 Black               Male                      26.0   \n",
       "3                 Black               Male                      45.0   \n",
       "4                 White               Male                      31.0   \n",
       "\n",
       "                              allegation  \\\n",
       "0           Failure to provide RTKA card   \n",
       "1                                 Action   \n",
       "2                                   Race   \n",
       "3                               Question   \n",
       "4  Refusal to process civilian complaint   \n",
       "\n",
       "                                 contact_reason  \\\n",
       "0                       Report-domestic dispute   \n",
       "1                              Moving violation   \n",
       "2                              Moving violation   \n",
       "3  PD suspected C/V of violation/crime - street   \n",
       "4                            C/V telephoned PCT   \n",
       "\n",
       "                outcome_description                         board_disposition  \\\n",
       "0  No arrest made or summons issued  Substantiated (Command Lvl Instructions)   \n",
       "1   Moving violation summons issued                   Substantiated (Charges)   \n",
       "2   Moving violation summons issued                   Substantiated (Charges)   \n",
       "3  No arrest made or summons issued                   Substantiated (Charges)   \n",
       "4  No arrest made or summons issued  Substantiated (Command Lvl Instructions)   \n",
       "\n",
       "   success  \n",
       "0        1  \n",
       "1        1  \n",
       "2        1  \n",
       "3        1  \n",
       "4        1  "
      ]
     },
     "execution_count": 4,
     "metadata": {},
     "output_type": "execute_result"
    }
   ],
   "source": [
    "nypd = pd.read_csv('data/raw/allegations_202007271729.csv')\n",
    "q_data = cleaning(nypd.copy())\n",
    "q_data.head()"
   ]
  },
  {
   "cell_type": "markdown",
   "metadata": {},
   "source": [
    "Cleaned data set."
   ]
  },
  {
   "cell_type": "markdown",
   "metadata": {},
   "source": [
    "#### Univariate analysis\n",
    "\n",
    "I plotted complainant_gender to calculate the distribution of males and females "
   ]
  },
  {
   "cell_type": "code",
   "execution_count": 5,
   "metadata": {},
   "outputs": [
    {
     "ename": "ImportError",
     "evalue": "matplotlib is required for plotting when the default backend \"matplotlib\" is selected.",
     "output_type": "error",
     "traceback": [
      "\u001b[1;31m---------------------------------------------------------------------------\u001b[0m",
      "\u001b[1;31mImportError\u001b[0m                               Traceback (most recent call last)",
      "Cell \u001b[1;32mIn [5], line 1\u001b[0m\n\u001b[1;32m----> 1\u001b[0m q_data[\u001b[39m'\u001b[39;49m\u001b[39mcomplainant_gender\u001b[39;49m\u001b[39m'\u001b[39;49m]\u001b[39m.\u001b[39;49mvalue_counts()\u001b[39m.\u001b[39;49mplot(kind\u001b[39m=\u001b[39;49m\u001b[39m'\u001b[39;49m\u001b[39mbar\u001b[39;49m\u001b[39m'\u001b[39;49m)\n",
      "File \u001b[1;32mc:\\Users\\emani\\Documents\\GitHub\\PoliceAllegations2020\\.venv\\lib\\site-packages\\pandas\\plotting\\_core.py:921\u001b[0m, in \u001b[0;36mPlotAccessor.__call__\u001b[1;34m(self, *args, **kwargs)\u001b[0m\n\u001b[0;32m    920\u001b[0m \u001b[39mdef\u001b[39;00m \u001b[39m__call__\u001b[39m(\u001b[39mself\u001b[39m, \u001b[39m*\u001b[39margs, \u001b[39m*\u001b[39m\u001b[39m*\u001b[39mkwargs):\n\u001b[1;32m--> 921\u001b[0m     plot_backend \u001b[39m=\u001b[39m _get_plot_backend(kwargs\u001b[39m.\u001b[39;49mpop(\u001b[39m\"\u001b[39;49m\u001b[39mbackend\u001b[39;49m\u001b[39m\"\u001b[39;49m, \u001b[39mNone\u001b[39;49;00m))\n\u001b[0;32m    923\u001b[0m     x, y, kind, kwargs \u001b[39m=\u001b[39m \u001b[39mself\u001b[39m\u001b[39m.\u001b[39m_get_call_args(\n\u001b[0;32m    924\u001b[0m         plot_backend\u001b[39m.\u001b[39m\u001b[39m__name__\u001b[39m, \u001b[39mself\u001b[39m\u001b[39m.\u001b[39m_parent, args, kwargs\n\u001b[0;32m    925\u001b[0m     )\n\u001b[0;32m    927\u001b[0m     kind \u001b[39m=\u001b[39m \u001b[39mself\u001b[39m\u001b[39m.\u001b[39m_kind_aliases\u001b[39m.\u001b[39mget(kind, kind)\n",
      "File \u001b[1;32mc:\\Users\\emani\\Documents\\GitHub\\PoliceAllegations2020\\.venv\\lib\\site-packages\\pandas\\plotting\\_core.py:1908\u001b[0m, in \u001b[0;36m_get_plot_backend\u001b[1;34m(backend)\u001b[0m\n\u001b[0;32m   1905\u001b[0m \u001b[39mif\u001b[39;00m backend_str \u001b[39min\u001b[39;00m _backends:\n\u001b[0;32m   1906\u001b[0m     \u001b[39mreturn\u001b[39;00m _backends[backend_str]\n\u001b[1;32m-> 1908\u001b[0m module \u001b[39m=\u001b[39m _load_backend(backend_str)\n\u001b[0;32m   1909\u001b[0m _backends[backend_str] \u001b[39m=\u001b[39m module\n\u001b[0;32m   1910\u001b[0m \u001b[39mreturn\u001b[39;00m module\n",
      "File \u001b[1;32mc:\\Users\\emani\\Documents\\GitHub\\PoliceAllegations2020\\.venv\\lib\\site-packages\\pandas\\plotting\\_core.py:1839\u001b[0m, in \u001b[0;36m_load_backend\u001b[1;34m(backend)\u001b[0m\n\u001b[0;32m   1837\u001b[0m         module \u001b[39m=\u001b[39m importlib\u001b[39m.\u001b[39mimport_module(\u001b[39m\"\u001b[39m\u001b[39mpandas.plotting._matplotlib\u001b[39m\u001b[39m\"\u001b[39m)\n\u001b[0;32m   1838\u001b[0m     \u001b[39mexcept\u001b[39;00m \u001b[39mImportError\u001b[39;00m:\n\u001b[1;32m-> 1839\u001b[0m         \u001b[39mraise\u001b[39;00m \u001b[39mImportError\u001b[39;00m(\n\u001b[0;32m   1840\u001b[0m             \u001b[39m\"\u001b[39m\u001b[39mmatplotlib is required for plotting when the \u001b[39m\u001b[39m\"\u001b[39m\n\u001b[0;32m   1841\u001b[0m             \u001b[39m'\u001b[39m\u001b[39mdefault backend \u001b[39m\u001b[39m\"\u001b[39m\u001b[39mmatplotlib\u001b[39m\u001b[39m\"\u001b[39m\u001b[39m is selected.\u001b[39m\u001b[39m'\u001b[39m\n\u001b[0;32m   1842\u001b[0m         ) \u001b[39mfrom\u001b[39;00m \u001b[39mNone\u001b[39m\n\u001b[0;32m   1843\u001b[0m     \u001b[39mreturn\u001b[39;00m module\n\u001b[0;32m   1845\u001b[0m found_backend \u001b[39m=\u001b[39m \u001b[39mFalse\u001b[39;00m\n",
      "\u001b[1;31mImportError\u001b[0m: matplotlib is required for plotting when the default backend \"matplotlib\" is selected."
     ]
    }
   ],
   "source": [
    "q_data['complainant_gender'].value_counts().plot(kind='bar')"
   ]
  },
  {
   "cell_type": "markdown",
   "metadata": {},
   "source": [
    "Here I plotted the size of successes compared to failures"
   ]
  },
  {
   "cell_type": "code",
   "execution_count": null,
   "metadata": {},
   "outputs": [
    {
     "ename": "",
     "evalue": "",
     "output_type": "error",
     "traceback": [
      "\u001b[1;31mRunning cells with 'Python 3.10.0 ('.venv': venv)' requires ipykernel package.\n",
      "\u001b[1;31mRun the following command to install 'ipykernel' into the Python environment. \n",
      "\u001b[1;31mCommand: 'c:/Users/emani/Documents/GitHub/PoliceAllegations2020/.venv/Scripts/python.exe -m pip install ipykernel -U --force-reinstall'"
     ]
    }
   ],
   "source": [
    "q_data.pivot_table(index='success', aggfunc='size').plot(kind='bar')"
   ]
  },
  {
   "cell_type": "markdown",
   "metadata": {},
   "source": [
    "#### Bivariate Analysis\n",
    "Here I plotted successes grouped by gender."
   ]
  },
  {
   "cell_type": "code",
   "execution_count": null,
   "metadata": {},
   "outputs": [
    {
     "ename": "",
     "evalue": "",
     "output_type": "error",
     "traceback": [
      "\u001b[1;31mRunning cells with 'Python 3.10.0 ('.venv': venv)' requires ipykernel package.\n",
      "\u001b[1;31mRun the following command to install 'ipykernel' into the Python environment. \n",
      "\u001b[1;31mCommand: 'c:/Users/emani/Documents/GitHub/PoliceAllegations2020/.venv/Scripts/python.exe -m pip install ipykernel -U --force-reinstall'"
     ]
    }
   ],
   "source": [
    "q_data.pivot_table(index='complainant_gender', values=['success'], aggfunc='mean').plot(kind='bar')"
   ]
  },
  {
   "cell_type": "markdown",
   "metadata": {},
   "source": [
    "#### Interesting Aggregates\n",
    "\n",
    "All allegation types that have both \"male\" and \"female\" complainants"
   ]
  },
  {
   "cell_type": "code",
   "execution_count": null,
   "metadata": {},
   "outputs": [
    {
     "ename": "",
     "evalue": "",
     "output_type": "error",
     "traceback": [
      "\u001b[1;31mRunning cells with 'Python 3.10.0 ('.venv': venv)' requires ipykernel package.\n",
      "\u001b[1;31mRun the following command to install 'ipykernel' into the Python environment. \n",
      "\u001b[1;31mCommand: 'c:/Users/emani/Documents/GitHub/PoliceAllegations2020/.venv/Scripts/python.exe -m pip install ipykernel -U --force-reinstall'"
     ]
    }
   ],
   "source": [
    "q_data = q_data.assign(gender = q_data['complainant_gender'].replace({'Male':1,'Female':2}))\n",
    "out = q_data.groupby(['allegation'])['gender'].mean() \n",
    "out2 = (out == 2) | (out==1)\n",
    "alle = out2[out2].index\n",
    "new_data = q_data[~q_data['allegation'].isin(alle)]\n",
    "new_data.allegation.unique()"
   ]
  },
  {
   "cell_type": "markdown",
   "metadata": {},
   "source": [
    "Here are the success rates of allegations grouped by allegation type and gender"
   ]
  },
  {
   "cell_type": "code",
   "execution_count": null,
   "metadata": {},
   "outputs": [
    {
     "ename": "",
     "evalue": "",
     "output_type": "error",
     "traceback": [
      "\u001b[1;31mRunning cells with 'Python 3.10.0 ('.venv': venv)' requires ipykernel package.\n",
      "\u001b[1;31mRun the following command to install 'ipykernel' into the Python environment. \n",
      "\u001b[1;31mCommand: 'c:/Users/emani/Documents/GitHub/PoliceAllegations2020/.venv/Scripts/python.exe -m pip install ipykernel -U --force-reinstall'"
     ]
    }
   ],
   "source": [
    "data = new_data.groupby(['allegation','complainant_gender']).aggregate({'success':np.mean}).reset_index()\n",
    "data.head()"
   ]
  },
  {
   "cell_type": "markdown",
   "metadata": {},
   "source": [
    "There are 16 allegation types grouped by gender that have a 0% success rate"
   ]
  },
  {
   "cell_type": "code",
   "execution_count": null,
   "metadata": {},
   "outputs": [
    {
     "ename": "",
     "evalue": "",
     "output_type": "error",
     "traceback": [
      "\u001b[1;31mRunning cells with 'Python 3.10.0 ('.venv': venv)' requires ipykernel package.\n",
      "\u001b[1;31mRun the following command to install 'ipykernel' into the Python environment. \n",
      "\u001b[1;31mCommand: 'c:/Users/emani/Documents/GitHub/PoliceAllegations2020/.venv/Scripts/python.exe -m pip install ipykernel -U --force-reinstall'"
     ]
    }
   ],
   "source": [
    "c = data.sort_values(by=['success'])\n",
    "c.head(16)"
   ]
  },
  {
   "cell_type": "markdown",
   "metadata": {},
   "source": [
    "There are 5 allegation types grouped by gender that have a 100% success rate"
   ]
  },
  {
   "cell_type": "code",
   "execution_count": null,
   "metadata": {},
   "outputs": [
    {
     "ename": "",
     "evalue": "",
     "output_type": "error",
     "traceback": [
      "\u001b[1;31mRunning cells with 'Python 3.10.0 ('.venv': venv)' requires ipykernel package.\n",
      "\u001b[1;31mRun the following command to install 'ipykernel' into the Python environment. \n",
      "\u001b[1;31mCommand: 'c:/Users/emani/Documents/GitHub/PoliceAllegations2020/.venv/Scripts/python.exe -m pip install ipykernel -U --force-reinstall'"
     ]
    }
   ],
   "source": [
    "d = data.sort_values(by=['success'],ascending=False)\n",
    "d.head(5)"
   ]
  },
  {
   "cell_type": "markdown",
   "metadata": {},
   "source": [
    "### Assessment of Missingness\n",
    "\n",
    "#### Here I check if complaiant_ethnicity's missingness is dependent on success\n",
    "\n",
    "First I calculate the empirical distribution of success by null and not-null"
   ]
  },
  {
   "cell_type": "code",
   "execution_count": null,
   "metadata": {},
   "outputs": [
    {
     "ename": "",
     "evalue": "",
     "output_type": "error",
     "traceback": [
      "\u001b[1;31mRunning cells with 'Python 3.10.0 ('.venv': venv)' requires ipykernel package.\n",
      "\u001b[1;31mRun the following command to install 'ipykernel' into the Python environment. \n",
      "\u001b[1;31mCommand: 'c:/Users/emani/Documents/GitHub/PoliceAllegations2020/.venv/Scripts/python.exe -m pip install ipykernel -U --force-reinstall'"
     ]
    }
   ],
   "source": [
    "distr = (\n",
    "    q_data\n",
    "    .assign(is_null=q_data.complainant_ethnicity.isnull())\n",
    "    .pivot_table(index='is_null', columns='success', aggfunc='size')\n",
    "    .apply(lambda x:x / x.sum(), axis=1)\n",
    ")\n",
    "distr"
   ]
  },
  {
   "cell_type": "markdown",
   "metadata": {},
   "source": [
    "Then I shuffle success and calculate its tvd for 1000 repetitions."
   ]
  },
  {
   "cell_type": "code",
   "execution_count": null,
   "metadata": {},
   "outputs": [
    {
     "ename": "",
     "evalue": "",
     "output_type": "error",
     "traceback": [
      "\u001b[1;31mRunning cells with 'Python 3.10.0 ('.venv': venv)' requires ipykernel package.\n",
      "\u001b[1;31mRun the following command to install 'ipykernel' into the Python environment. \n",
      "\u001b[1;31mCommand: 'c:/Users/emani/Documents/GitHub/PoliceAllegations2020/.venv/Scripts/python.exe -m pip install ipykernel -U --force-reinstall'"
     ]
    }
   ],
   "source": [
    "n_repetitions = 1000\n",
    "\n",
    "tvds = []\n",
    "for _ in range(n_repetitions):\n",
    "    \n",
    "\n",
    "    shuffled_col = (\n",
    "        q_data['success']\n",
    "        .sample(replace=False, frac=1)\n",
    "        .reset_index(drop=True)\n",
    "    )\n",
    "    \n",
    "\n",
    "    shuffled = (\n",
    "        q_data\n",
    "        .assign(**{\n",
    "            'success': shuffled_col,\n",
    "            'is_null': q_data['complainant_ethnicity'].isnull()\n",
    "        })\n",
    "    )\n",
    "    \n",
    "\n",
    "    shuffled = (\n",
    "        shuffled\n",
    "        .pivot_table(index='is_null', columns='success', aggfunc='size')\n",
    "        .apply(lambda x:x / x.sum(), axis=1)\n",
    "    )\n",
    "    \n",
    "    tvd = shuffled.diff().iloc[-1].abs().sum() / 2\n",
    "\n",
    "    \n",
    "    tvds.append(tvd)"
   ]
  },
  {
   "cell_type": "markdown",
   "metadata": {},
   "source": [
    "Next I calculate the oberved value."
   ]
  },
  {
   "cell_type": "code",
   "execution_count": null,
   "metadata": {},
   "outputs": [
    {
     "ename": "",
     "evalue": "",
     "output_type": "error",
     "traceback": [
      "\u001b[1;31mRunning cells with 'Python 3.10.0 ('.venv': venv)' requires ipykernel package.\n",
      "\u001b[1;31mRun the following command to install 'ipykernel' into the Python environment. \n",
      "\u001b[1;31mCommand: 'c:/Users/emani/Documents/GitHub/PoliceAllegations2020/.venv/Scripts/python.exe -m pip install ipykernel -U --force-reinstall'"
     ]
    }
   ],
   "source": [
    "obs = distr.diff().iloc[-1].abs().sum() / 2\n",
    "obs"
   ]
  },
  {
   "cell_type": "markdown",
   "metadata": {},
   "source": [
    "Finally I calculate the pvalue."
   ]
  },
  {
   "cell_type": "code",
   "execution_count": null,
   "metadata": {},
   "outputs": [
    {
     "ename": "",
     "evalue": "",
     "output_type": "error",
     "traceback": [
      "\u001b[1;31mRunning cells with 'Python 3.10.0 ('.venv': venv)' requires ipykernel package.\n",
      "\u001b[1;31mRun the following command to install 'ipykernel' into the Python environment. \n",
      "\u001b[1;31mCommand: 'c:/Users/emani/Documents/GitHub/PoliceAllegations2020/.venv/Scripts/python.exe -m pip install ipykernel -U --force-reinstall'"
     ]
    }
   ],
   "source": [
    "pval = np.mean(tvds > obs)\n",
    "pval"
   ]
  },
  {
   "cell_type": "markdown",
   "metadata": {},
   "source": [
    "I reject the null hypothesis therefore complaiant_ethnicity's missingness is dependent on success"
   ]
  },
  {
   "cell_type": "markdown",
   "metadata": {},
   "source": [
    "#### Here I check if complaiant_ethnicity's missingness is dependent on allegations about race\n",
    "\n",
    "Here I create a dataframe that only has allegations about race"
   ]
  },
  {
   "cell_type": "code",
   "execution_count": null,
   "metadata": {},
   "outputs": [
    {
     "ename": "",
     "evalue": "",
     "output_type": "error",
     "traceback": [
      "\u001b[1;31mRunning cells with 'Python 3.10.0 ('.venv': venv)' requires ipykernel package.\n",
      "\u001b[1;31mRun the following command to install 'ipykernel' into the Python environment. \n",
      "\u001b[1;31mCommand: 'c:/Users/emani/Documents/GitHub/PoliceAllegations2020/.venv/Scripts/python.exe -m pip install ipykernel -U --force-reinstall'"
     ]
    }
   ],
   "source": [
    "race = q_data[q_data['allegation'] == 'Race'].reset_index(drop=True)\n",
    "race.head()"
   ]
  },
  {
   "cell_type": "markdown",
   "metadata": {},
   "source": [
    "Here I calculate the empirical distribution of success by null and not-null"
   ]
  },
  {
   "cell_type": "code",
   "execution_count": null,
   "metadata": {},
   "outputs": [
    {
     "ename": "",
     "evalue": "",
     "output_type": "error",
     "traceback": [
      "\u001b[1;31mRunning cells with 'Python 3.10.0 ('.venv': venv)' requires ipykernel package.\n",
      "\u001b[1;31mRun the following command to install 'ipykernel' into the Python environment. \n",
      "\u001b[1;31mCommand: 'c:/Users/emani/Documents/GitHub/PoliceAllegations2020/.venv/Scripts/python.exe -m pip install ipykernel -U --force-reinstall'"
     ]
    }
   ],
   "source": [
    "distr = (\n",
    "    race\n",
    "    .assign(is_null=race.complainant_ethnicity.isnull())\n",
    "    .pivot_table(index='is_null', columns='success', aggfunc='size')\n",
    "    .apply(lambda x:x / x.sum(), axis=1)\n",
    ")\n",
    "distr"
   ]
  },
  {
   "cell_type": "markdown",
   "metadata": {},
   "source": [
    "Then I shuffle success and calculate its tvd for 1000 repetitions"
   ]
  },
  {
   "cell_type": "code",
   "execution_count": null,
   "metadata": {},
   "outputs": [
    {
     "ename": "",
     "evalue": "",
     "output_type": "error",
     "traceback": [
      "\u001b[1;31mRunning cells with 'Python 3.10.0 ('.venv': venv)' requires ipykernel package.\n",
      "\u001b[1;31mRun the following command to install 'ipykernel' into the Python environment. \n",
      "\u001b[1;31mCommand: 'c:/Users/emani/Documents/GitHub/PoliceAllegations2020/.venv/Scripts/python.exe -m pip install ipykernel -U --force-reinstall'"
     ]
    }
   ],
   "source": [
    "n_repetitions = 1000\n",
    "\n",
    "tvds = []\n",
    "for _ in range(n_repetitions):\n",
    "    \n",
    "\n",
    "    shuffled_col = (\n",
    "        race['success']\n",
    "        .sample(replace=False, frac=1)\n",
    "        .reset_index(drop=True)\n",
    "    )\n",
    "    \n",
    "\n",
    "    shuffled = (\n",
    "        race\n",
    "        .assign(**{\n",
    "            'success': shuffled_col,\n",
    "            'is_null': race['complainant_ethnicity'].isnull()\n",
    "        })\n",
    "    )\n",
    "    \n",
    "\n",
    "    shuffled = (\n",
    "        shuffled\n",
    "        .pivot_table(index='is_null', columns='success', aggfunc='size')\n",
    "        .apply(lambda x:x / x.sum(), axis=1)\n",
    "    )\n",
    "    \n",
    "    tvd = shuffled.diff().iloc[-1].abs().sum() / 2\n",
    "\n",
    "    \n",
    "    tvds.append(tvd)"
   ]
  },
  {
   "cell_type": "markdown",
   "metadata": {},
   "source": [
    "Next I calculate the observed value."
   ]
  },
  {
   "cell_type": "code",
   "execution_count": null,
   "metadata": {},
   "outputs": [
    {
     "ename": "",
     "evalue": "",
     "output_type": "error",
     "traceback": [
      "\u001b[1;31mRunning cells with 'Python 3.10.0 ('.venv': venv)' requires ipykernel package.\n",
      "\u001b[1;31mRun the following command to install 'ipykernel' into the Python environment. \n",
      "\u001b[1;31mCommand: 'c:/Users/emani/Documents/GitHub/PoliceAllegations2020/.venv/Scripts/python.exe -m pip install ipykernel -U --force-reinstall'"
     ]
    }
   ],
   "source": [
    "obs = distr.diff().iloc[-1].abs().sum() / 2\n",
    "obs"
   ]
  },
  {
   "cell_type": "markdown",
   "metadata": {},
   "source": [
    "Finally I calculate the pvalue"
   ]
  },
  {
   "cell_type": "code",
   "execution_count": null,
   "metadata": {},
   "outputs": [
    {
     "ename": "",
     "evalue": "",
     "output_type": "error",
     "traceback": [
      "\u001b[1;31mRunning cells with 'Python 3.10.0 ('.venv': venv)' requires ipykernel package.\n",
      "\u001b[1;31mRun the following command to install 'ipykernel' into the Python environment. \n",
      "\u001b[1;31mCommand: 'c:/Users/emani/Documents/GitHub/PoliceAllegations2020/.venv/Scripts/python.exe -m pip install ipykernel -U --force-reinstall'"
     ]
    }
   ],
   "source": [
    "pval = np.mean(tvds > obs)\n",
    "pval"
   ]
  },
  {
   "cell_type": "markdown",
   "metadata": {},
   "source": [
    "I again reject the null hypothesis, so complainant_ethnicity's missingness is also dependent on success when allegations are about race"
   ]
  },
  {
   "cell_type": "markdown",
   "metadata": {},
   "source": [
    "#### Here I check if complainant_ethnicity's missingness is dependent on complainant_gender\n",
    "\n",
    "First I calculate the empirical distribution of complainant_gender by null and not-null"
   ]
  },
  {
   "cell_type": "code",
   "execution_count": null,
   "metadata": {},
   "outputs": [
    {
     "ename": "",
     "evalue": "",
     "output_type": "error",
     "traceback": [
      "\u001b[1;31mRunning cells with 'Python 3.10.0 ('.venv': venv)' requires ipykernel package.\n",
      "\u001b[1;31mRun the following command to install 'ipykernel' into the Python environment. \n",
      "\u001b[1;31mCommand: 'c:/Users/emani/Documents/GitHub/PoliceAllegations2020/.venv/Scripts/python.exe -m pip install ipykernel -U --force-reinstall'"
     ]
    }
   ],
   "source": [
    "distr = (\n",
    "    q_data\n",
    "    .assign(is_null=q_data.complainant_ethnicity.isnull())\n",
    "    .pivot_table(index='is_null', columns='complainant_gender', aggfunc='size')\n",
    "    .apply(lambda x:x / x.sum(), axis=1)\n",
    ")\n",
    "distr"
   ]
  },
  {
   "cell_type": "markdown",
   "metadata": {},
   "source": [
    "Then I shuffle complainant_gender and calculate its tvd for 1000 repetitions"
   ]
  },
  {
   "cell_type": "code",
   "execution_count": null,
   "metadata": {},
   "outputs": [
    {
     "ename": "",
     "evalue": "",
     "output_type": "error",
     "traceback": [
      "\u001b[1;31mRunning cells with 'Python 3.10.0 ('.venv': venv)' requires ipykernel package.\n",
      "\u001b[1;31mRun the following command to install 'ipykernel' into the Python environment. \n",
      "\u001b[1;31mCommand: 'c:/Users/emani/Documents/GitHub/PoliceAllegations2020/.venv/Scripts/python.exe -m pip install ipykernel -U --force-reinstall'"
     ]
    }
   ],
   "source": [
    "n_repetitions = 1000\n",
    "\n",
    "tvds = []\n",
    "for _ in range(n_repetitions):\n",
    "    \n",
    "   \n",
    "    shuffled_col = (\n",
    "        q_data['complainant_gender']\n",
    "        .sample(replace=False, frac=1)\n",
    "        .reset_index(drop=True)\n",
    "    )\n",
    "    \n",
    "\n",
    "    shuffled = (\n",
    "        q_data\n",
    "        .assign(**{\n",
    "            'complainant_gender': shuffled_col,\n",
    "            'is_null': q_data['complainant_ethnicity'].isnull()\n",
    "        })\n",
    "    )\n",
    "    \n",
    "\n",
    "    shuffled = (\n",
    "        shuffled\n",
    "        .pivot_table(index='is_null', columns='complainant_gender', aggfunc='size')\n",
    "        .apply(lambda x:x / x.sum(), axis=1)\n",
    "    )\n",
    "    \n",
    "    tvd = shuffled.diff().iloc[-1].abs().sum() / 2\n",
    "\n",
    "    \n",
    "    tvds.append(tvd)"
   ]
  },
  {
   "cell_type": "markdown",
   "metadata": {},
   "source": [
    "Next I calculate the observed value"
   ]
  },
  {
   "cell_type": "code",
   "execution_count": null,
   "metadata": {},
   "outputs": [
    {
     "ename": "",
     "evalue": "",
     "output_type": "error",
     "traceback": [
      "\u001b[1;31mRunning cells with 'Python 3.10.0 ('.venv': venv)' requires ipykernel package.\n",
      "\u001b[1;31mRun the following command to install 'ipykernel' into the Python environment. \n",
      "\u001b[1;31mCommand: 'c:/Users/emani/Documents/GitHub/PoliceAllegations2020/.venv/Scripts/python.exe -m pip install ipykernel -U --force-reinstall'"
     ]
    }
   ],
   "source": [
    "obs = distr.diff().iloc[-1].abs().sum() / 2\n",
    "obs"
   ]
  },
  {
   "cell_type": "markdown",
   "metadata": {},
   "source": [
    "Finally I calculate the pvalue "
   ]
  },
  {
   "cell_type": "code",
   "execution_count": null,
   "metadata": {},
   "outputs": [
    {
     "ename": "",
     "evalue": "",
     "output_type": "error",
     "traceback": [
      "\u001b[1;31mRunning cells with 'Python 3.10.0 ('.venv': venv)' requires ipykernel package.\n",
      "\u001b[1;31mRun the following command to install 'ipykernel' into the Python environment. \n",
      "\u001b[1;31mCommand: 'c:/Users/emani/Documents/GitHub/PoliceAllegations2020/.venv/Scripts/python.exe -m pip install ipykernel -U --force-reinstall'"
     ]
    }
   ],
   "source": [
    "pval = np.mean(tvds > obs)\n",
    "pval"
   ]
  },
  {
   "cell_type": "markdown",
   "metadata": {},
   "source": [
    "I do not reject the null hypothesis, so complainant_ethnicity's missingness is not dependent on complainant_gender."
   ]
  },
  {
   "cell_type": "markdown",
   "metadata": {},
   "source": [
    "### Hypothesis Test\n",
    "\n",
    "#### null hypothesis: \n",
    "In our population, for the same allegations, the successes of men and women have the same distribution.\n",
    "\n",
    "#### alt hypothesis: \n",
    "In our population, for the same allegations, women are more likely to be successful in their cases than men. \n",
    "\n",
    "#### sig fig:\n",
    "0.01\n",
    "\n",
    "To choose the allegations that I would like to compare the successes between males and females, I eliminated the allegations where charges were made exclusively by either males or females. Then, I selected the top 10 allegations with the most sample size and among them, I chose the ones that had as close to the same proportion of female representation as in the entire population of males and females.  Since alternate hypothesis concerns women, I wanted the proportion of women in each allegation to be as representative of all of the women in the population as possible. I selected \"Physical force,\" \"Word,\" 'Vehicle stop,\" and \"Threat of force (verbal of physical).\""
   ]
  },
  {
   "cell_type": "code",
   "execution_count": null,
   "metadata": {},
   "outputs": [
    {
     "ename": "",
     "evalue": "",
     "output_type": "error",
     "traceback": [
      "\u001b[1;31mRunning cells with 'Python 3.10.0 ('.venv': venv)' requires ipykernel package.\n",
      "\u001b[1;31mRun the following command to install 'ipykernel' into the Python environment. \n",
      "\u001b[1;31mCommand: 'c:/Users/emani/Documents/GitHub/PoliceAllegations2020/.venv/Scripts/python.exe -m pip install ipykernel -U --force-reinstall'"
     ]
    }
   ],
   "source": [
    "# proportion of females in the data set\n",
    "fem_only= q_data.groupby('complainant_gender').size()\n",
    "prop_fem = fem_only[0] / fem_only.sum()\n",
    "\n",
    "# proportion of women who filed against the police for physical force\n",
    "pf = q_data[q_data['allegation'] == 'Physical force'].groupby('complainant_gender').size()\n",
    "prop_pf = pf[0] / pf.sum()\n",
    "\n",
    "# proportion of women who filed against the police for word\n",
    "w = q_data[q_data['allegation'] == 'Word'].groupby('complainant_gender').size()\n",
    "prop_w = w[0] / w.sum()\n",
    "\n",
    "# proportion of women who filed against the police for vehicle stop\n",
    "vst = q_data[q_data['allegation'] == 'Vehicle stop'].groupby('complainant_gender').size()\n",
    "prop_vst = vst[0] / vst.sum()\n",
    "\n",
    "# proportion of women who filed against the police for threat of force\n",
    "tof = q_data[q_data['allegation'] == 'Threat of force (verbal or physical)'].groupby('complainant_gender').size()\n",
    "prop_tof = tof[0] / tof.sum()\n",
    "\n",
    "alleg = ['Physical force', 'Word', 'Vehicle stop', 'Threat of force (verbal or physical)']\n",
    "\n",
    "{'Whole population': prop_fem, 'Physical force': prop_pf, 'Word': prop_w, \\\n",
    "    'Vehicle stop': prop_vst, 'Threat of force (verbal or physical)': prop_tof}"
   ]
  },
  {
   "cell_type": "markdown",
   "metadata": {},
   "source": [
    "In our hypothesis test, we're doing a test for each allegation individually. I run 1000 simulations for each allegation and I shuffle the success column in each simulation. I find the difference of means between both genders after shuffling and add it to the nested list of results."
   ]
  },
  {
   "cell_type": "code",
   "execution_count": null,
   "metadata": {},
   "outputs": [
    {
     "ename": "",
     "evalue": "",
     "output_type": "error",
     "traceback": [
      "\u001b[1;31mRunning cells with 'Python 3.10.0 ('.venv': venv)' requires ipykernel package.\n",
      "\u001b[1;31mRun the following command to install 'ipykernel' into the Python environment. \n",
      "\u001b[1;31mCommand: 'c:/Users/emani/Documents/GitHub/PoliceAllegations2020/.venv/Scripts/python.exe -m pip install ipykernel -U --force-reinstall'"
     ]
    }
   ],
   "source": [
    "nrepetitions = 1000\n",
    "\n",
    "alleg = ['Physical force', 'Word', 'Vehicle stop', 'Threat of force (verbal or physical)']\n",
    "\n",
    "differences = []\n",
    "for i in alleg:\n",
    "    lst = []\n",
    "    for j in range(n_repetitions):\n",
    "        filt = q_data[q_data['allegation'] == i].reset_index(drop=True)\n",
    "\n",
    "        shuffled_successes = (\n",
    "            filt['success']\n",
    "            .sample(replace=False, frac=1)\n",
    "            .reset_index(drop=True)\n",
    "        )\n",
    "\n",
    "\n",
    "        shuffled = (\n",
    "            filt\n",
    "            .assign(**{'shuffled success': shuffled_successes})\n",
    "        )\n",
    "\n",
    "\n",
    "        group_means = (\n",
    "            shuffled\n",
    "            .groupby('complainant_gender')\n",
    "            .mean()\n",
    "            .loc[:, 'shuffled success']\n",
    "        )\n",
    "        difference = group_means.diff().iloc[-1]\n",
    "\n",
    "    \n",
    "        lst.append(abs(difference))\n",
    "    differences.append(lst)"
   ]
  },
  {
   "cell_type": "markdown",
   "metadata": {},
   "source": [
    "Here I get the observed values for each allegation type"
   ]
  },
  {
   "cell_type": "code",
   "execution_count": null,
   "metadata": {},
   "outputs": [
    {
     "ename": "",
     "evalue": "",
     "output_type": "error",
     "traceback": [
      "\u001b[1;31mRunning cells with 'Python 3.10.0 ('.venv': venv)' requires ipykernel package.\n",
      "\u001b[1;31mRun the following command to install 'ipykernel' into the Python environment. \n",
      "\u001b[1;31mCommand: 'c:/Users/emani/Documents/GitHub/PoliceAllegations2020/.venv/Scripts/python.exe -m pip install ipykernel -U --force-reinstall'"
     ]
    }
   ],
   "source": [
    "alleg = ['Physical force', 'Word', 'Vehicle stop', 'Threat of force (verbal or physical)']\n",
    "obs_diff = []\n",
    "for i in alleg:\n",
    "    filt = q_data[q_data['allegation'] == i].reset_index(drop=True)\n",
    "    observed_difference = (\n",
    "        filt\n",
    "        .groupby('complainant_gender')['success']\n",
    "        .mean()\n",
    "        .diff()\n",
    "        .iloc[-1]\n",
    "    )\n",
    "    obs_diff.append(observed_difference)\n",
    "obs_diff"
   ]
  },
  {
   "cell_type": "markdown",
   "metadata": {},
   "source": [
    "Finally, I calculate the pvalue for each allegation type."
   ]
  },
  {
   "cell_type": "code",
   "execution_count": null,
   "metadata": {},
   "outputs": [
    {
     "ename": "",
     "evalue": "",
     "output_type": "error",
     "traceback": [
      "\u001b[1;31mRunning cells with 'Python 3.10.0 ('.venv': venv)' requires ipykernel package.\n",
      "\u001b[1;31mRun the following command to install 'ipykernel' into the Python environment. \n",
      "\u001b[1;31mCommand: 'c:/Users/emani/Documents/GitHub/PoliceAllegations2020/.venv/Scripts/python.exe -m pip install ipykernel -U --force-reinstall'"
     ]
    }
   ],
   "source": [
    "pval = []\n",
    "for i in range(4):\n",
    "    pval.append(np.mean(differences[i] > obs_diff[i]))\n",
    "pd.Series(pval,index=alleg)"
   ]
  },
  {
   "cell_type": "markdown",
   "metadata": {},
   "source": [
    "For 'Physical force' I reject our null hypothesis\n",
    "\n",
    "For 'word' I do not reject our null hypothesis\n",
    "\n",
    "For 'Vehicle stop' I do not reject our null hypothesis\n",
    "\n",
    "For 'Threat of force (verbal or physical)' I do not reject our null hypothesis "
   ]
  },
  {
   "cell_type": "markdown",
   "metadata": {},
   "source": []
  }
 ],
 "metadata": {
  "kernelspec": {
   "display_name": "Python 3.10.0 ('.venv': venv)",
   "language": "python",
   "name": "python3"
  },
  "language_info": {
   "codemirror_mode": {
    "name": "ipython",
    "version": 3
   },
   "file_extension": ".py",
   "mimetype": "text/x-python",
   "name": "python",
   "nbconvert_exporter": "python",
   "pygments_lexer": "ipython3",
   "version": "3.10.0"
  },
  "orig_nbformat": 4,
  "vscode": {
   "interpreter": {
    "hash": "1ddae9ddfcd38e2c0254e19a73de9ab90511d15768fb1b144973e5265cfc9317"
   }
  }
 },
 "nbformat": 4,
 "nbformat_minor": 2
}
